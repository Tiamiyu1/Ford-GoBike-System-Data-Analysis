{
 "cells": [
  {
   "cell_type": "markdown",
   "metadata": {},
   "source": [
    "## Report: act_report\n",
    "* Create a **250-word-minimum written report** called \"act_report.pdf\" or \"act_report.html\" that communicates the insights and displays the visualization(s) produced from your wrangled data. This is to be framed as an external document, like a blog post or magazine article, for example."
   ]
  },
  {
   "cell_type": "code",
   "execution_count": 1,
   "metadata": {},
   "outputs": [],
   "source": [
    "import pandas as pd\n",
    "df = pd.read_csv('twitter_archive_master.csv')"
   ]
  },
  {
   "cell_type": "markdown",
   "metadata": {},
   "source": [
    "## Analyzing and Visualizing Data\n",
    "\n",
    "### Insights"
   ]
  },
  {
   "cell_type": "markdown",
   "metadata": {},
   "source": [
    "* The merged dataset has 22 columns and 2057 rows, all the rows are completely filed with no missing value.\n",
    "\n",
    "* The columns are 'tweet_id', 'timestamp', 'source', 'text', 'expanded_urls', 'rating_numerator', 'rating_denominator', 'name', 'stage', 'retweet_count', 'favorite_count', 'jpg_url', 'img_num', 'p1', 'p1_conf', 'p1_dog', 'p2', 'p2_conf', 'p2_dog', 'p3', 'p3_conf', 'p3_dog'.\n",
    "\n",
    "* Thirteen of the columns are object data type (string), one is datetime, five are integer data types, three are floats, and the remaining three are boolean data types.\n",
    "\n",
    "* The timestamp has data from November 2015 to August 2017."
   ]
  },
  {
   "cell_type": "code",
   "execution_count": 2,
   "metadata": {},
   "outputs": [
    {
     "data": {
      "text/html": [
       "<div>\n",
       "<style scoped>\n",
       "    .dataframe tbody tr th:only-of-type {\n",
       "        vertical-align: middle;\n",
       "    }\n",
       "\n",
       "    .dataframe tbody tr th {\n",
       "        vertical-align: top;\n",
       "    }\n",
       "\n",
       "    .dataframe thead th {\n",
       "        text-align: right;\n",
       "    }\n",
       "</style>\n",
       "<table border=\"1\" class=\"dataframe\">\n",
       "  <thead>\n",
       "    <tr style=\"text-align: right;\">\n",
       "      <th></th>\n",
       "      <th>tweet_id</th>\n",
       "      <th>rating_numerator</th>\n",
       "      <th>rating_denominator</th>\n",
       "      <th>img_num</th>\n",
       "      <th>p1_conf</th>\n",
       "      <th>p2_conf</th>\n",
       "      <th>p3_conf</th>\n",
       "      <th>retweet_count</th>\n",
       "      <th>favorite_count</th>\n",
       "    </tr>\n",
       "  </thead>\n",
       "  <tbody>\n",
       "    <tr>\n",
       "      <th>count</th>\n",
       "      <td>1.986000e+03</td>\n",
       "      <td>1986.000000</td>\n",
       "      <td>1986.000000</td>\n",
       "      <td>1986.000000</td>\n",
       "      <td>1986.000000</td>\n",
       "      <td>1.986000e+03</td>\n",
       "      <td>1.986000e+03</td>\n",
       "      <td>1986.000000</td>\n",
       "      <td>1986.000000</td>\n",
       "    </tr>\n",
       "    <tr>\n",
       "      <th>mean</th>\n",
       "      <td>7.356142e+17</td>\n",
       "      <td>12.281974</td>\n",
       "      <td>10.534240</td>\n",
       "      <td>1.203424</td>\n",
       "      <td>0.593452</td>\n",
       "      <td>1.344853e-01</td>\n",
       "      <td>6.034994e-02</td>\n",
       "      <td>2256.662135</td>\n",
       "      <td>7734.369084</td>\n",
       "    </tr>\n",
       "    <tr>\n",
       "      <th>std</th>\n",
       "      <td>6.740686e+16</td>\n",
       "      <td>41.581180</td>\n",
       "      <td>7.335369</td>\n",
       "      <td>0.561492</td>\n",
       "      <td>0.271961</td>\n",
       "      <td>1.005944e-01</td>\n",
       "      <td>5.091948e-02</td>\n",
       "      <td>4042.471895</td>\n",
       "      <td>11410.557235</td>\n",
       "    </tr>\n",
       "    <tr>\n",
       "      <th>min</th>\n",
       "      <td>6.660209e+17</td>\n",
       "      <td>0.000000</td>\n",
       "      <td>2.000000</td>\n",
       "      <td>1.000000</td>\n",
       "      <td>0.044333</td>\n",
       "      <td>1.011300e-08</td>\n",
       "      <td>1.740170e-10</td>\n",
       "      <td>11.000000</td>\n",
       "      <td>66.000000</td>\n",
       "    </tr>\n",
       "    <tr>\n",
       "      <th>25%</th>\n",
       "      <td>6.758214e+17</td>\n",
       "      <td>10.000000</td>\n",
       "      <td>10.000000</td>\n",
       "      <td>1.000000</td>\n",
       "      <td>0.362656</td>\n",
       "      <td>5.407533e-02</td>\n",
       "      <td>1.624755e-02</td>\n",
       "      <td>499.000000</td>\n",
       "      <td>1643.750000</td>\n",
       "    </tr>\n",
       "    <tr>\n",
       "      <th>50%</th>\n",
       "      <td>7.082494e+17</td>\n",
       "      <td>11.000000</td>\n",
       "      <td>10.000000</td>\n",
       "      <td>1.000000</td>\n",
       "      <td>0.587357</td>\n",
       "      <td>1.175370e-01</td>\n",
       "      <td>4.952715e-02</td>\n",
       "      <td>1085.500000</td>\n",
       "      <td>3475.500000</td>\n",
       "    </tr>\n",
       "    <tr>\n",
       "      <th>75%</th>\n",
       "      <td>7.873791e+17</td>\n",
       "      <td>12.000000</td>\n",
       "      <td>10.000000</td>\n",
       "      <td>1.000000</td>\n",
       "      <td>0.844920</td>\n",
       "      <td>1.951377e-01</td>\n",
       "      <td>9.166433e-02</td>\n",
       "      <td>2574.250000</td>\n",
       "      <td>9589.750000</td>\n",
       "    </tr>\n",
       "    <tr>\n",
       "      <th>max</th>\n",
       "      <td>8.924206e+17</td>\n",
       "      <td>1776.000000</td>\n",
       "      <td>170.000000</td>\n",
       "      <td>4.000000</td>\n",
       "      <td>1.000000</td>\n",
       "      <td>4.880140e-01</td>\n",
       "      <td>2.734190e-01</td>\n",
       "      <td>71146.000000</td>\n",
       "      <td>145367.000000</td>\n",
       "    </tr>\n",
       "  </tbody>\n",
       "</table>\n",
       "</div>"
      ],
      "text/plain": [
       "           tweet_id  rating_numerator  rating_denominator      img_num  \\\n",
       "count  1.986000e+03       1986.000000         1986.000000  1986.000000   \n",
       "mean   7.356142e+17         12.281974           10.534240     1.203424   \n",
       "std    6.740686e+16         41.581180            7.335369     0.561492   \n",
       "min    6.660209e+17          0.000000            2.000000     1.000000   \n",
       "25%    6.758214e+17         10.000000           10.000000     1.000000   \n",
       "50%    7.082494e+17         11.000000           10.000000     1.000000   \n",
       "75%    7.873791e+17         12.000000           10.000000     1.000000   \n",
       "max    8.924206e+17       1776.000000          170.000000     4.000000   \n",
       "\n",
       "           p1_conf       p2_conf       p3_conf  retweet_count  favorite_count  \n",
       "count  1986.000000  1.986000e+03  1.986000e+03    1986.000000     1986.000000  \n",
       "mean      0.593452  1.344853e-01  6.034994e-02    2256.662135     7734.369084  \n",
       "std       0.271961  1.005944e-01  5.091948e-02    4042.471895    11410.557235  \n",
       "min       0.044333  1.011300e-08  1.740170e-10      11.000000       66.000000  \n",
       "25%       0.362656  5.407533e-02  1.624755e-02     499.000000     1643.750000  \n",
       "50%       0.587357  1.175370e-01  4.952715e-02    1085.500000     3475.500000  \n",
       "75%       0.844920  1.951377e-01  9.166433e-02    2574.250000     9589.750000  \n",
       "max       1.000000  4.880140e-01  2.734190e-01   71146.000000   145367.000000  "
      ]
     },
     "execution_count": 2,
     "metadata": {},
     "output_type": "execute_result"
    }
   ],
   "source": [
    "df.describe()"
   ]
  },
  {
   "cell_type": "markdown",
   "metadata": {},
   "source": [
    "\n",
    "**Using the pandas describe function, I found out that** \n",
    "\n",
    "* The minimum, average and maximum rating_numerator is 0, 12 and 1776 respectively while that of rating_denominator is 2, 11 and 170.\n",
    "* The minimum, average and maximum retweet_count is 11,  2256 and 71146 respectively while that of favorite_count is 66, 7734 and 145367."
   ]
  },
  {
   "cell_type": "code",
   "execution_count": 3,
   "metadata": {},
   "outputs": [
    {
     "data": {
      "text/plain": [
       "None       545\n",
       "a           55\n",
       "Charlie     10\n",
       "Oliver      10\n",
       "Cooper      10\n",
       "Lucy         9\n",
       "Tucker       9\n",
       "Penny        9\n",
       "Winston      8\n",
       "Sadie        8\n",
       "Lola         7\n",
       "Daisy        7\n",
       "the          7\n",
       "Toby         7\n",
       "Jax          6\n",
       "Bo           6\n",
       "Bella        6\n",
       "Koda         6\n",
       "an           6\n",
       "Stanley      6\n",
       "Name: name, dtype: int64"
      ]
     },
     "execution_count": 3,
     "metadata": {},
     "output_type": "execute_result"
    }
   ],
   "source": [
    "df.name.value_counts().head(20)"
   ]
  },
  {
   "cell_type": "code",
   "execution_count": 4,
   "metadata": {},
   "outputs": [
    {
     "data": {
      "text/plain": [
       "None       27.442095\n",
       "a           2.769386\n",
       "Charlie     0.503525\n",
       "Oliver      0.503525\n",
       "Cooper      0.503525\n",
       "Lucy        0.453172\n",
       "Tucker      0.453172\n",
       "Penny       0.453172\n",
       "Winston     0.402820\n",
       "Sadie       0.402820\n",
       "Lola        0.352467\n",
       "Daisy       0.352467\n",
       "the         0.352467\n",
       "Toby        0.352467\n",
       "Jax         0.302115\n",
       "Bo          0.302115\n",
       "Bella       0.302115\n",
       "Koda        0.302115\n",
       "an          0.302115\n",
       "Stanley     0.302115\n",
       "Name: name, dtype: float64"
      ]
     },
     "execution_count": 4,
     "metadata": {},
     "output_type": "execute_result"
    }
   ],
   "source": [
    "(df.name.value_counts()/df.shape[0] *100).head(20)"
   ]
  },
  {
   "cell_type": "markdown",
   "metadata": {},
   "source": [
    "Some of the dogs in the dataset have no name (about 28%) and that's the most common category followed by dogs with name `a`."
   ]
  },
  {
   "cell_type": "code",
   "execution_count": 5,
   "metadata": {},
   "outputs": [
    {
     "data": {
      "text/plain": [
       "1    1704\n",
       "2     190\n",
       "3      62\n",
       "4      30\n",
       "Name: img_num, dtype: int64"
      ]
     },
     "execution_count": 5,
     "metadata": {},
     "output_type": "execute_result"
    }
   ],
   "source": [
    "df.img_num.value_counts()"
   ]
  },
  {
   "cell_type": "markdown",
   "metadata": {},
   "source": [
    "Image number 1 is the most prominent (frequent), followed by 2,3 and 4 respectively."
   ]
  },
  {
   "cell_type": "code",
   "execution_count": 6,
   "metadata": {},
   "outputs": [],
   "source": [
    "import matplotlib.pyplot as plt\n",
    "import seaborn as sns\n",
    "sns.countplot(df.img_num)\n",
    "plt.title('Countplot for Tweet Image Number');"
   ]
  },
  {
   "cell_type": "code",
   "execution_count": 7,
   "metadata": {},
   "outputs": [
    {
     "data": {
      "image/png": "[encoded data removed]",
      "text/plain": [
       "<matplotlib.figure.Figure at 0x7f9d89eeeda0>"
      ]
     },
     "metadata": {
      "needs_background": "light"
     },
     "output_type": "display_data"
    }
   ],
   "source": [
    "sns.boxplot(df.img_num, df.favorite_count)\n",
    "plt.title('Boxplot for Favorite_Count (Likes) per Image Number');"
   ]
  },
  {
   "cell_type": "markdown",
   "metadata": {},
   "source": [
    "* Favorite count for image number 1 has the highest count, there are too extreme values immediately after the upper whisker (around 20000). The maximum count is over 140000.\n",
    "\n",
    "* Favorite count for image number 2 has the next highest count, there are a few extreme values immediately after the upper whisker (around 35000). The maximum count is around 120000.\n",
    "\n",
    "* Favorite count for image number 3 has the next highest count after image number 2, there are about 2 extreme values immediately after the upper whisker (around 30000). The maximum count is around 35000.\n",
    "\n",
    "* Favorite count for image number 4 has the lowest count, there are about 2 extreme values immediately after the upper whisker (around 35000). The maximum count is around 45000."
   ]
  },
  {
   "cell_type": "code",
   "execution_count": 8,
   "metadata": {},
   "outputs": [
    {
     "data": {
      "text/plain": [
       "0"
      ]
     },
     "execution_count": 8,
     "metadata": {},
     "output_type": "execute_result"
    }
   ],
   "source": [
    "from subprocess import call\n",
    "call(['python', '-m', 'nbconvert', 'act_report.ipynb'])"
   ]
  },
  {
   "cell_type": "code",
   "execution_count": null,
   "metadata": {},
   "outputs": [],
   "source": []
  }
 ],
 "metadata": {
  "kernelspec": {
   "display_name": "Python 3",
   "language": "python",
   "name": "python3"
  },
  "language_info": {
   "codemirror_mode": {
    "name": "ipython",
    "version": 3
   },
   "file_extension": ".py",
   "mimetype": "text/x-python",
   "name": "python",
   "nbconvert_exporter": "python",
   "pygments_lexer": "ipython3",
   "version": "3.6.3"
  }
 },
 "nbformat": 4,
 "nbformat_minor": 2
}
